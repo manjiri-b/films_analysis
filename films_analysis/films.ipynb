{
 "cells": [
  {
   "cell_type": "markdown",
   "metadata": {},
   "source": [
    "### 1. Retrieve the data, and examine it. ###"
   ]
  },
  {
   "cell_type": "code",
   "execution_count": 25,
   "metadata": {},
   "outputs": [
    {
     "name": "stdout",
     "output_type": "stream",
     "text": [
      "dict_keys(['id', 'title', 'original_title', 'original_title_romanised', 'description', 'director', 'producer', 'release_date', 'running_time', 'rt_score', 'people', 'species', 'locations', 'vehicles', 'url'])\n",
      "\n",
      "dict_values(['2baf70d1-42bb-4437-b551-e5fed5a87abe', 'Castle in the Sky', '天空の城ラピュタ', 'Tenkū no shiro Rapyuta', \"The orphan Sheeta inherited a mysterious crystal that links her to the mythical sky-kingdom of Laputa. With the help of resourceful Pazu and a rollicking band of sky pirates, she makes her way to the ruins of the once-great civilization. Sheeta and Pazu must outwit the evil Muska, who plans to use Laputa's science to make himself ruler of the world.\", 'Hayao Miyazaki', 'Isao Takahata', '1986', '124', '95', ['https://ghibliapi.herokuapp.com/people/'], ['https://ghibliapi.herokuapp.com/species/af3910a6-429f-4c74-9ad5-dfe1c4aa04f2'], ['https://ghibliapi.herokuapp.com/locations/'], ['https://ghibliapi.herokuapp.com/vehicles/'], 'https://ghibliapi.herokuapp.com/films/2baf70d1-42bb-4437-b551-e5fed5a87abe'])\n"
     ]
    }
   ],
   "source": [
    "import requests\n",
    "\n",
    "res = requests.get('http://linserv1.cims.nyu.edu:10000/films?_page=1')\n",
    "\n",
    "data1 = res.json()\n",
    "\n",
    "#Keys\n",
    "print(data1[0].keys())\n",
    "\n",
    "print()\n",
    "#Values\n",
    "print(data1[0].values())"
   ]
  },
  {
   "cell_type": "markdown",
   "metadata": {},
   "source": [
    "The goal of the assignment is to create a report showing director's names, the number of Ghibli films that the directors was involved in, and the average rotten tomatoes score of the Studio Ghibli films made by that director. Therefore thee keys of interest would be, 'director', and 'rt_score.' To get the count, we can simply use the value counts function on the director column after loading the information into a data frame."
   ]
  },
  {
   "cell_type": "code",
   "execution_count": 11,
   "metadata": {},
   "outputs": [
    {
     "name": "stdout",
     "output_type": "stream",
     "text": [
      "dict_keys(['id', 'title', 'original_title', 'original_title_romanised', 'description', 'director', 'producer', 'release_date', 'running_time', 'rt_score', 'people', 'species', 'locations', 'vehicles', 'url'])\n",
      "\n",
      "dict_values(['dc2e6bd1-8156-4886-adff-b39e6043af0c', 'Spirited Away', '千と千尋の神隠し', 'Sen to Chihiro no kamikakushi', 'Spirited Away is an Oscar winning Japanese animated film about a ten year old girl who wanders away from her parents along a path that leads to a world ruled by strange and unusual monster-like animals. Her parents have been changed into pigs along with others inside a bathhouse full of these creatures. Will she ever see the world how it once was?', 'Hayao Miyazaki', 'Toshio Suzuki', '2001', '124', '97', ['https://ghibliapi.herokuapp.com/people/'], ['https://ghibliapi.herokuapp.com/species/af3910a6-429f-4c74-9ad5-dfe1c4aa04f2'], ['https://ghibliapi.herokuapp.com/locations/'], ['https://ghibliapi.herokuapp.com/vehicles/'], 'https://ghibliapi.herokuapp.com/films/dc2e6bd1-8156-4886-adff-b39e6043af0c'])\n"
     ]
    },
    {
     "data": {
      "text/plain": [
       "False"
      ]
     },
     "execution_count": 11,
     "metadata": {},
     "output_type": "execute_result"
    }
   ],
   "source": [
    "res2 = requests.get('http://linserv1.cims.nyu.edu:10000/films?_page=2')\n",
    "\n",
    "data2 = res2.json()\n",
    "\n",
    "#Keys\n",
    "print(data2[0].keys())\n",
    "\n",
    "print()\n",
    "#Values\n",
    "print(data2[0].values())\n",
    "\n",
    "data1 == data2"
   ]
  },
  {
   "cell_type": "markdown",
   "metadata": {},
   "source": [
    "When the url is modified, the information obtained changes. The keys for each movie remain the samee. However, the values change. For example, in the first page the first movie is Castle in the Sky, in the second page the first movie is Spritied Away."
   ]
  },
  {
   "cell_type": "markdown",
   "metadata": {},
   "source": [
    "### 2. Load the data into a DataFrame ###"
   ]
  },
  {
   "cell_type": "code",
   "execution_count": 77,
   "metadata": {},
   "outputs": [
    {
     "data": {
      "text/html": [
       "<div>\n",
       "<style scoped>\n",
       "    .dataframe tbody tr th:only-of-type {\n",
       "        vertical-align: middle;\n",
       "    }\n",
       "\n",
       "    .dataframe tbody tr th {\n",
       "        vertical-align: top;\n",
       "    }\n",
       "\n",
       "    .dataframe thead th {\n",
       "        text-align: right;\n",
       "    }\n",
       "</style>\n",
       "<table border=\"1\" class=\"dataframe\">\n",
       "  <thead>\n",
       "    <tr style=\"text-align: right;\">\n",
       "      <th></th>\n",
       "      <th>director</th>\n",
       "      <th>rt_score</th>\n",
       "    </tr>\n",
       "  </thead>\n",
       "  <tbody>\n",
       "    <tr>\n",
       "      <th>0</th>\n",
       "      <td>Hayao Miyazaki</td>\n",
       "      <td>95</td>\n",
       "    </tr>\n",
       "    <tr>\n",
       "      <th>1</th>\n",
       "      <td>Isao Takahata</td>\n",
       "      <td>97</td>\n",
       "    </tr>\n",
       "    <tr>\n",
       "      <th>2</th>\n",
       "      <td>Hayao Miyazaki</td>\n",
       "      <td>93</td>\n",
       "    </tr>\n",
       "    <tr>\n",
       "      <th>3</th>\n",
       "      <td>Hayao Miyazaki</td>\n",
       "      <td>96</td>\n",
       "    </tr>\n",
       "    <tr>\n",
       "      <th>4</th>\n",
       "      <td>Isao Takahata</td>\n",
       "      <td>100</td>\n",
       "    </tr>\n",
       "    <tr>\n",
       "      <th>5</th>\n",
       "      <td>Hayao Miyazaki</td>\n",
       "      <td>94</td>\n",
       "    </tr>\n",
       "    <tr>\n",
       "      <th>6</th>\n",
       "      <td>Isao Takahata</td>\n",
       "      <td>78</td>\n",
       "    </tr>\n",
       "    <tr>\n",
       "      <th>7</th>\n",
       "      <td>Yoshifumi Kondō</td>\n",
       "      <td>91</td>\n",
       "    </tr>\n",
       "    <tr>\n",
       "      <th>8</th>\n",
       "      <td>Hayao Miyazaki</td>\n",
       "      <td>92</td>\n",
       "    </tr>\n",
       "    <tr>\n",
       "      <th>9</th>\n",
       "      <td>Isao Takahata</td>\n",
       "      <td>75</td>\n",
       "    </tr>\n",
       "    <tr>\n",
       "      <th>10</th>\n",
       "      <td>Hayao Miyazaki</td>\n",
       "      <td>97</td>\n",
       "    </tr>\n",
       "    <tr>\n",
       "      <th>11</th>\n",
       "      <td>Hiroyuki Morita</td>\n",
       "      <td>89</td>\n",
       "    </tr>\n",
       "    <tr>\n",
       "      <th>12</th>\n",
       "      <td>Hayao Miyazaki</td>\n",
       "      <td>87</td>\n",
       "    </tr>\n",
       "    <tr>\n",
       "      <th>13</th>\n",
       "      <td>Gorō Miyazaki</td>\n",
       "      <td>41</td>\n",
       "    </tr>\n",
       "    <tr>\n",
       "      <th>14</th>\n",
       "      <td>Hayao Miyazaki</td>\n",
       "      <td>92</td>\n",
       "    </tr>\n",
       "    <tr>\n",
       "      <th>15</th>\n",
       "      <td>Hiromasa Yonebayashi</td>\n",
       "      <td>95</td>\n",
       "    </tr>\n",
       "    <tr>\n",
       "      <th>16</th>\n",
       "      <td>Gorō Miyazaki</td>\n",
       "      <td>83</td>\n",
       "    </tr>\n",
       "    <tr>\n",
       "      <th>17</th>\n",
       "      <td>Hayao Miyazaki</td>\n",
       "      <td>89</td>\n",
       "    </tr>\n",
       "    <tr>\n",
       "      <th>18</th>\n",
       "      <td>Isao Takahata</td>\n",
       "      <td>100</td>\n",
       "    </tr>\n",
       "    <tr>\n",
       "      <th>19</th>\n",
       "      <td>Hiromasa Yonebayashi</td>\n",
       "      <td>92</td>\n",
       "    </tr>\n",
       "    <tr>\n",
       "      <th>20</th>\n",
       "      <td>Michaël Dudok de Wit</td>\n",
       "      <td>93</td>\n",
       "    </tr>\n",
       "  </tbody>\n",
       "</table>\n",
       "</div>"
      ],
      "text/plain": [
       "                director  rt_score\n",
       "0         Hayao Miyazaki        95\n",
       "1          Isao Takahata        97\n",
       "2         Hayao Miyazaki        93\n",
       "3         Hayao Miyazaki        96\n",
       "4          Isao Takahata       100\n",
       "5         Hayao Miyazaki        94\n",
       "6          Isao Takahata        78\n",
       "7        Yoshifumi Kondō        91\n",
       "8         Hayao Miyazaki        92\n",
       "9          Isao Takahata        75\n",
       "10        Hayao Miyazaki        97\n",
       "11       Hiroyuki Morita        89\n",
       "12        Hayao Miyazaki        87\n",
       "13         Gorō Miyazaki        41\n",
       "14        Hayao Miyazaki        92\n",
       "15  Hiromasa Yonebayashi        95\n",
       "16         Gorō Miyazaki        83\n",
       "17        Hayao Miyazaki        89\n",
       "18         Isao Takahata       100\n",
       "19  Hiromasa Yonebayashi        92\n",
       "20  Michaël Dudok de Wit        93"
      ]
     },
     "execution_count": 77,
     "metadata": {},
     "output_type": "execute_result"
    }
   ],
   "source": [
    "import requests\n",
    "import pandas as pd\n",
    "\n",
    "data1 = ['']\n",
    "directors = []\n",
    "rt_scores = []\n",
    "\n",
    "page_num = 1\n",
    "while data1 != []:\n",
    "    res = requests.get('http://linserv1.cims.nyu.edu:10000/films?_page='+str(page_num))\n",
    "    data1 = res.json()\n",
    "    \n",
    "    for movie_info in data1:\n",
    "        directors.append(movie_info[\"director\"])\n",
    "        rt_scores.append(int(movie_info[\"rt_score\"]))\n",
    "    \n",
    "    page_num += 1\n",
    "\n",
    "df = pd.DataFrame()\n",
    "df['director'] = directors\n",
    "df['rt_score'] = rt_scores\n",
    "df"
   ]
  },
  {
   "cell_type": "markdown",
   "metadata": {},
   "source": [
    "### 3. Report ###"
   ]
  },
  {
   "cell_type": "code",
   "execution_count": 78,
   "metadata": {},
   "outputs": [
    {
     "data": {
      "text/html": [
       "<div>\n",
       "<style scoped>\n",
       "    .dataframe tbody tr th:only-of-type {\n",
       "        vertical-align: middle;\n",
       "    }\n",
       "\n",
       "    .dataframe tbody tr th {\n",
       "        vertical-align: top;\n",
       "    }\n",
       "\n",
       "    .dataframe thead th {\n",
       "        text-align: right;\n",
       "    }\n",
       "</style>\n",
       "<table border=\"1\" class=\"dataframe\">\n",
       "  <thead>\n",
       "    <tr style=\"text-align: right;\">\n",
       "      <th></th>\n",
       "      <th>avg_rt_score</th>\n",
       "      <th>count</th>\n",
       "    </tr>\n",
       "    <tr>\n",
       "      <th>director</th>\n",
       "      <th></th>\n",
       "      <th></th>\n",
       "    </tr>\n",
       "  </thead>\n",
       "  <tbody>\n",
       "    <tr>\n",
       "      <th>Gorō Miyazaki</th>\n",
       "      <td>62.000000</td>\n",
       "      <td>2</td>\n",
       "    </tr>\n",
       "    <tr>\n",
       "      <th>Hayao Miyazaki</th>\n",
       "      <td>92.777778</td>\n",
       "      <td>9</td>\n",
       "    </tr>\n",
       "    <tr>\n",
       "      <th>Hiromasa Yonebayashi</th>\n",
       "      <td>93.500000</td>\n",
       "      <td>2</td>\n",
       "    </tr>\n",
       "    <tr>\n",
       "      <th>Hiroyuki Morita</th>\n",
       "      <td>89.000000</td>\n",
       "      <td>1</td>\n",
       "    </tr>\n",
       "    <tr>\n",
       "      <th>Isao Takahata</th>\n",
       "      <td>90.000000</td>\n",
       "      <td>5</td>\n",
       "    </tr>\n",
       "    <tr>\n",
       "      <th>Michaël Dudok de Wit</th>\n",
       "      <td>93.000000</td>\n",
       "      <td>1</td>\n",
       "    </tr>\n",
       "    <tr>\n",
       "      <th>Yoshifumi Kondō</th>\n",
       "      <td>91.000000</td>\n",
       "      <td>1</td>\n",
       "    </tr>\n",
       "  </tbody>\n",
       "</table>\n",
       "</div>"
      ],
      "text/plain": [
       "                      avg_rt_score  count\n",
       "director                                 \n",
       "Gorō Miyazaki            62.000000      2\n",
       "Hayao Miyazaki           92.777778      9\n",
       "Hiromasa Yonebayashi     93.500000      2\n",
       "Hiroyuki Morita          89.000000      1\n",
       "Isao Takahata            90.000000      5\n",
       "Michaël Dudok de Wit     93.000000      1\n",
       "Yoshifumi Kondō          91.000000      1"
      ]
     },
     "execution_count": 78,
     "metadata": {},
     "output_type": "execute_result"
    }
   ],
   "source": [
    "df2 = (df['rt_score'].groupby(df['director']).mean()).to_frame()\n",
    "df2 = df2.rename(columns={\"rt_score\": \"avg_rt_score\"})\n",
    "df3 = (df['director'].groupby(df['director']).count()).to_frame()\n",
    "df3 = df3.rename(columns={\"director\": \"director\", \"director\": \"count\"})\n",
    "df4 = df2.merge(df3, on = 'director', how = 'left')\n",
    "df4"
   ]
  }
 ],
 "metadata": {
  "kernelspec": {
   "display_name": "Python 3",
   "language": "python",
   "name": "python3"
  },
  "language_info": {
   "codemirror_mode": {
    "name": "ipython",
    "version": 3
   },
   "file_extension": ".py",
   "mimetype": "text/x-python",
   "name": "python",
   "nbconvert_exporter": "python",
   "pygments_lexer": "ipython3",
   "version": "3.8.5"
  }
 },
 "nbformat": 4,
 "nbformat_minor": 4
}
